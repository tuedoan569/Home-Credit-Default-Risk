{
 "cells": [
  {
   "cell_type": "markdown",
   "id": "6422e511",
   "metadata": {},
   "source": [
    "## Imports"
   ]
  },
  {
   "cell_type": "code",
   "execution_count": 112,
   "id": "66ce83b7",
   "metadata": {},
   "outputs": [],
   "source": [
    "# Import Python libraries for data manipuation and visualization\n",
    "import pandas as pd\n",
    "import numpy as np\n",
    "import matplotlib.pyplot as plt\n",
    "import seaborn as sns\n",
    "import sklearn.metrics as metrics \n",
    "\n",
    "# Import the Python machine learning libraries we need\n",
    "from sklearn.pipeline import Pipeline\n",
    "from sklearn.impute import SimpleImputer\n",
    "from sklearn.compose import ColumnTransformer\n",
    "from sklearn.preprocessing import StandardScaler\n",
    "from sklearn.preprocessing import OneHotEncoder\n",
    "from sklearn.model_selection import train_test_split\n",
    "from sklearn.tree import DecisionTreeClassifier\n",
    "from sklearn.linear_model import LogisticRegression\n",
    "from sklearn.metrics import accuracy_score, confusion_matrix, precision_score, recall_score, f1_score, roc_auc_score\n",
    "\n",
    "# Import some convenience functions. \n",
    "from functions import *"
   ]
  },
  {
   "cell_type": "markdown",
   "id": "2e3459c4",
   "metadata": {},
   "source": [
    "## Read in Data"
   ]
  },
  {
   "cell_type": "code",
   "execution_count": 93,
   "id": "a21d95c9",
   "metadata": {},
   "outputs": [],
   "source": [
    "train = pd.read_csv('Desktop/home-credit-default-risk/application_train.csv')\n",
    "test = pd.read_csv('Desktop/home-credit-default-risk/application_test.csv')"
   ]
  },
  {
   "cell_type": "markdown",
   "id": "76d321a7",
   "metadata": {},
   "source": [
    "## Prepare data"
   ]
  },
  {
   "cell_type": "code",
   "execution_count": 94,
   "id": "f4f8050e",
   "metadata": {},
   "outputs": [],
   "source": [
    "# Replace anomalous values\n",
    "train['DAYS_EMPLOYED'].replace({365243: np.nan}, inplace = True)\n"
   ]
  },
  {
   "cell_type": "markdown",
   "id": "2f7498ff",
   "metadata": {},
   "source": [
    "## Feature engineering\n"
   ]
  },
  {
   "cell_type": "code",
   "execution_count": 95,
   "id": "9b4c7d1a",
   "metadata": {},
   "outputs": [],
   "source": [
    "\n",
    "# ratio features - create new variables based on existing variables\n",
    "train['CI_ratio'] = train['AMT_CREDIT'] / train['AMT_INCOME_TOTAL']        # credit-to-income ratio\n",
    "train['AI_ratio'] = train['AMT_ANNUITY'] / train['AMT_INCOME_TOTAL']       # annuity-to-income ratio\n",
    "train['GI_ratio'] = train['AMT_GOODS_PRICE'] / train['AMT_INCOME_TOTAL']         # credit to goods price ratio - how much was financed?\n",
    "\n",
    "\n",
    "# log features - reduce the dynamic range of variables so the differences between them are preserved\n",
    "train['log_INCOME'] = np.log(train['AMT_INCOME_TOTAL'])                    # log of income\n",
    "train['log_ANNUITY'] = np.log(train['AMT_ANNUITY'])                        # log of annuity\n",
    "train['log_CREDIT'] = np.log(train['AMT_CREDIT'])                          # log of credit\n",
    "train['log_GOODS'] = np.log(train['AMT_GOODS_PRICE'])                      # log of goods\n",
    "\n",
    "# flag features\n",
    "train['MissingBureau'] = train.iloc[:, 41:44].isnull().sum(axis=1).astype(\"category\")   # number of bureaus with no score\n",
    "train['FLAG_CG_ratio'] = train['AMT_CREDIT'] > train['AMT_GOODS_PRICE']                 # FLAG if you borrowed more than the price of the item\n",
    "\n",
    "# EXT_SOURCE_x variables are very important - let's not leave missing values up to the imputer!\n",
    "# Instead of imputing missing values by column mean or median, let's fill in missing values by row\n",
    "# i.e. missing scores are replaced with the average of the scores we do have. If there are no scores at all\n",
    "# let's just give them a value of 0.2 for now.\n",
    "train['AVG_EXT'] = train.iloc[:, 41:44].sum(axis=1)/(3- train.iloc[:,41:44].isnull().sum(axis=1))   # average of the (at most) three scores\n",
    "train['AVG_EXT'].replace(np.nan, 0.2, inplace = True)   # get rid of any /0 errors generated from previous step\n",
    "\n",
    "train.EXT_SOURCE_1.fillna(train.AVG_EXT, inplace=True)\n",
    "train.EXT_SOURCE_2.fillna(train.AVG_EXT, inplace=True)\n",
    "train.EXT_SOURCE_3.fillna(train.AVG_EXT, inplace=True)\n",
    "\n",
    "train.drop(['AVG_EXT'], axis = 1)   # let's not make AVG_EXT a feature - it will be too highly correlated to the three components\n",
    "\n",
    "# drop these variables based on poor feature significance (< 0.0001)\n",
    "train.drop(['REG_REGION_NOT_LIVE_REGION','AMT_REQ_CREDIT_BUREAU_WEEK','HOUSETYPE_MODE','OCCUPATION_TYPE','FLAG_MOBIL','FLAG_CONT_MOBILE',\n",
    "           'NAME_TYPE_SUITE', 'FLAG_DOCUMENT_4','ORGANIZATION_TYPE', 'FONDKAPREMONT_MODE', 'FLAG_DOCUMENT_15', 'FLAG_DOCUMENT_7', 'FLAG_DOCUMENT_16',\n",
    "           'FLAG_DOCUMENT_9', 'FLAG_DOCUMENT_10', 'FLAG_DOCUMENT_11','FLAG_DOCUMENT_12', 'FLAG_DOCUMENT_13', 'FLAG_DOCUMENT_14', 'AMT_REQ_CREDIT_BUREAU_DAY',\n",
    "           'AMT_REQ_CREDIT_BUREAU_HOUR', 'FLAG_DOCUMENT_21','FLAG_DOCUMENT_20', 'FLAG_DOCUMENT_19', 'FLAG_DOCUMENT_18', 'FLAG_DOCUMENT_17','FLAG_DOCUMENT_2'],\n",
    "           axis=1, inplace=True)"
   ]
  },
  {
   "cell_type": "markdown",
   "id": "8f8e4014",
   "metadata": {},
   "source": [
    "## Split data into train data and test data"
   ]
  },
  {
   "cell_type": "code",
   "execution_count": 96,
   "id": "af17cb3e",
   "metadata": {},
   "outputs": [],
   "source": [
    "# Todo\n",
    "# Instead of splitting data - use test files\n",
    "\n",
    "# Random forest classification\n"
   ]
  },
  {
   "cell_type": "code",
   "execution_count": 97,
   "id": "41579f0e",
   "metadata": {},
   "outputs": [
    {
     "name": "stdout",
     "output_type": "stream",
     "text": [
      "Shape of X_train: (61502, 103)\n",
      "Shape of y_train: (61502,)\n",
      "Shape of X_valid: (246009, 103)\n",
      "Shape of y_valid: (246009,)\n"
     ]
    }
   ],
   "source": [
    "y = train['TARGET'].values\n",
    "X_train, X_valid, y_train, y_valid = train_test_split(train.drop(['TARGET', 'SK_ID_CURR'], axis = 1), y, stratify = y, test_size=0.8, random_state=1)\n",
    "print('Shape of X_train:',X_train.shape)\n",
    "print('Shape of y_train:',y_train.shape)\n",
    "print('Shape of X_valid:',X_valid.shape)\n",
    "print('Shape of y_valid:',y_valid.shape)"
   ]
  },
  {
   "cell_type": "markdown",
   "id": "24a46742",
   "metadata": {},
   "source": [
    "## Transform Data - Impute, Scale, One Hot Encode for categorial columns"
   ]
  },
  {
   "cell_type": "code",
   "execution_count": 98,
   "id": "abf21b90",
   "metadata": {},
   "outputs": [
    {
     "name": "stdout",
     "output_type": "stream",
     "text": [
      "92 numeric features\n",
      "11 categorical features\n"
     ]
    }
   ],
   "source": [
    "types = np.array([z for z in X_train.dtypes])        # array([dtype('float64'), dtype('float64'), dtype('O'), dtype('O') ...])\n",
    "all_columns = X_train.columns.values                 # list of all column names\n",
    "is_num = types != 'object'                           # returns array([False, False, False, False,  True,  True, ...) where True is a numeric variable\n",
    "num_features = all_columns[is_num].tolist()          # list of all numeric columns\n",
    "cat_features = all_columns[~is_num].tolist()         # list of all categorical columns\n",
    "\n",
    "print(len(num_features), \"numeric features\")\n",
    "print(len(cat_features), \"categorical features\")"
   ]
  },
  {
   "cell_type": "code",
   "execution_count": 99,
   "id": "738bee20",
   "metadata": {},
   "outputs": [
    {
     "name": "stdout",
     "output_type": "stream",
     "text": [
      "Shape of X_train: (61502, 144)\n",
      "Shape of y_train: (61502,)\n"
     ]
    }
   ],
   "source": [
    "features = num_features + cat_features\n",
    "\n",
    "Pipe_num = Pipeline(\n",
    "    steps=[\n",
    "    ('imputer', SimpleImputer(strategy = 'median')),        # tried median, mean, constant strategies\n",
    "    ('scaler', StandardScaler())       ])\n",
    "\n",
    "Pipe_cat = Pipeline(\n",
    "    steps=[\n",
    "    ('imputer', SimpleImputer(strategy = 'constant', fill_value = 'Unknown')),\n",
    "    ('onehot', OneHotEncoder())        ])\n",
    "\n",
    "preprocessor = ColumnTransformer(\n",
    "    transformers = [\n",
    "        ('num', Pipe_num, num_features),\n",
    "        ('cat', Pipe_cat, cat_features)])\n",
    "\n",
    "preprocessor.fit(train[features])\n",
    "X_train = preprocessor.transform(X_train[features])\n",
    "X_valid = preprocessor.transform(X_valid[features])\n",
    "\n",
    "\n",
    "print('Shape of X_train:',X_train.shape)\n",
    "print('Shape of y_train:',y_train.shape)"
   ]
  },
  {
   "cell_type": "markdown",
   "id": "3e3daa21",
   "metadata": {},
   "source": [
    "## Build models"
   ]
  },
  {
   "cell_type": "code",
   "execution_count": 100,
   "id": "db3344a4",
   "metadata": {},
   "outputs": [
    {
     "data": {
      "text/plain": [
       "DecisionTreeClassifier(random_state=1)"
      ]
     },
     "execution_count": 100,
     "metadata": {},
     "output_type": "execute_result"
    }
   ],
   "source": [
    "## DecisionTree\n",
    "model_dt = DecisionTreeClassifier(random_state = 1)\n",
    "model_dt.fit(X_train, y_train)"
   ]
  },
  {
   "cell_type": "code",
   "execution_count": 101,
   "id": "c245d072",
   "metadata": {},
   "outputs": [
    {
     "name": "stdout",
     "output_type": "stream",
     "text": [
      "DecisionTreeClassifier 0.8499567089008939\n"
     ]
    }
   ],
   "source": [
    "predictions_dt = model_dt.predict(X_valid)\n",
    "print(\"DecisionTreeClassifier\", accuracy_score(y_valid, predictions_dt))"
   ]
  },
  {
   "cell_type": "code",
   "execution_count": 102,
   "id": "0340f94c",
   "metadata": {},
   "outputs": [
    {
     "data": {
      "text/plain": [
       "LogisticRegression(max_iter=2000)"
      ]
     },
     "execution_count": 102,
     "metadata": {},
     "output_type": "execute_result"
    }
   ],
   "source": [
    "## LogisticRegression\n",
    "model_lr = LogisticRegression(max_iter=2000, solver = 'lbfgs', multi_class='auto')\n",
    "model_lr.fit(X_train, y_train)\n",
    "\n"
   ]
  },
  {
   "cell_type": "code",
   "execution_count": 103,
   "id": "2668024f",
   "metadata": {},
   "outputs": [
    {
     "name": "stdout",
     "output_type": "stream",
     "text": [
      "LogisticRegression 0.9191614940916796\n"
     ]
    }
   ],
   "source": [
    "predictions_lr = model_lr.predict(X_valid)\n",
    "print(\"LogisticRegression\", accuracy_score(y_valid, predictions_lr))"
   ]
  },
  {
   "cell_type": "markdown",
   "id": "41e123ba",
   "metadata": {},
   "source": [
    "## Evaluate the model"
   ]
  },
  {
   "cell_type": "code",
   "execution_count": 122,
   "id": "48ba2374",
   "metadata": {},
   "outputs": [
    {
     "name": "stdout",
     "output_type": "stream",
     "text": [
      "Decision Tree Classifier: \n",
      "\n",
      "Confusion Matrix\n",
      " [[  3258  16602]\n",
      " [ 20310 205839]] \n",
      "\n",
      "Precision Score 0.13823828920570264 \n",
      "\n",
      "Recall Score 0.13823828920570264 \n",
      "\n",
      "F1 Score 0.13823828920570264 \n",
      "\n",
      "Logistic Regression: \n",
      "\n",
      "Confusion Matrix \n",
      " [[   245  19615]\n",
      " [   272 225877]] \n",
      "\n",
      "Precision Score 0.4738878143133462 \n",
      "\n",
      "Recall Score 0.4738878143133462 \n",
      "\n",
      "F1 Score 0.4738878143133462 \n",
      "\n"
     ]
    }
   ],
   "source": [
    "# Todo \n",
    "# Confusion matrix \n",
    "matrix_dt = confusion_matrix(y_valid, predictions_dt, labels=[1,0])\n",
    "matrix_lr = confusion_matrix(y_valid, predictions_lr, labels=[1,0])\n",
    "\n",
    "\n",
    "# Precision score\n",
    "\n",
    "precision_dt = precision_score(y_valid, predictions_dt, average = 'binary')\n",
    "precision_lr = precision_score(y_valid, predictions_lr, average = 'binary')\n",
    "\n",
    "# Recall Score\n",
    "\n",
    "recall_dt = precision_score(y_valid, predictions_dt, average = 'binary')\n",
    "recall_lr = precision_score(y_valid, predictions_lr, average = 'binary')\n",
    "\n",
    "# F1 Score\n",
    "\n",
    "f1_dt = precision_score(y_valid, predictions_dt, average = 'binary')\n",
    "f1_lr = precision_score(y_valid, predictions_lr, average = 'binary')\n",
    "\n",
    "print('Decision Tree Classifier: \\n')\n",
    "print('Confusion Matrix\\n', matrix_dt, '\\n')\n",
    "print('Precision Score', precision_dt, '\\n')\n",
    "print('Recall Score', recall_dt, '\\n')\n",
    "print('F1 Score', f1_dt, '\\n')\n",
    "\n",
    "print('Logistic Regression: \\n')\n",
    "print('Confusion Matrix \\n', matrix_lr, '\\n')\n",
    "print('Precision Score', precision_lr, '\\n')\n",
    "print('Recall Score', recall_lr, '\\n')\n",
    "print('F1 Score', f1_lr, '\\n')\n"
   ]
  },
  {
   "cell_type": "code",
   "execution_count": 105,
   "id": "48cbf731",
   "metadata": {},
   "outputs": [
    {
     "name": "stdout",
     "output_type": "stream",
     "text": [
      "DecisionTreeClassifier 0.8500\n",
      "LogisticRegression 0.9192\n"
     ]
    }
   ],
   "source": [
    "# DecisionTreeClassifier\n",
    "print('DecisionTreeClassifier %.4f' % accuracy_score(y_valid, predictions_dt))\n",
    "\n",
    "# LogisticRegression\n",
    "print('LogisticRegression %.4f' % accuracy_score(y_valid, predictions_lr))"
   ]
  },
  {
   "cell_type": "code",
   "execution_count": 106,
   "id": "29b9758c",
   "metadata": {},
   "outputs": [
    {
     "data": {
      "image/png": "[encoded data removed]",
      "text/plain": [
       "<Figure size 432x288 with 1 Axes>"
      ]
     },
     "metadata": {
      "needs_background": "light"
     },
     "output_type": "display_data"
    }
   ],
   "source": [
    "# ROC Curve - DecisionTreeClassifier\n",
    "\n",
    "fpr, tpr, threshold = metrics.roc_curve(y_valid, predictions_dt)\n",
    "roc_auc = metrics.auc(fpr, tpr)\n",
    "\n",
    "plt.title('Receiver Operating Characteristic')\n",
    "plt.plot(fpr, tpr, 'b', label='AUC = %0.2f' % roc_auc)\n",
    "plt.legend(loc = 'lower right')\n",
    "plt.plot([0, 1], [0, 1], 'r--')\n",
    "plt.xlim([0, 1])\n",
    "plt.xlim([0, 1])\n",
    "plt.ylabel('True Positive Rate')\n",
    "plt.xlabel('False Positive Rate')\n",
    "plt.show()\n"
   ]
  },
  {
   "cell_type": "code",
   "execution_count": 107,
   "id": "b84e1888",
   "metadata": {},
   "outputs": [
    {
     "data": {
      "image/png": "[encoded data removed]",
      "text/plain": [
       "<Figure size 432x288 with 1 Axes>"
      ]
     },
     "metadata": {
      "needs_background": "light"
     },
     "output_type": "display_data"
    }
   ],
   "source": [
    "# ROC Curve - LogisticRegression\n",
    "\n",
    "fpr, tpr, threshold = metrics.roc_curve(y_valid, predictions_lr)\n",
    "roc_auc = metrics.auc(fpr, tpr)\n",
    "\n",
    "plt.title('Receiver Operating Characteristic')\n",
    "plt.plot(fpr, tpr, 'b', label='AUC = %0.2f' % roc_auc)\n",
    "plt.legend(loc = 'lower right')\n",
    "plt.plot([0, 1], [0, 1], 'r--')\n",
    "plt.xlim([0, 1])\n",
    "plt.xlim([0, 1])\n",
    "plt.ylabel('True Positive Rate')\n",
    "plt.xlabel('False Positive Rate')\n",
    "plt.show()\n",
    "\n"
   ]
  },
  {
   "cell_type": "code",
   "execution_count": 108,
   "id": "9592dcbc",
   "metadata": {},
   "outputs": [
    {
     "name": "stdout",
     "output_type": "stream",
     "text": [
      "0.5055668038098935\n"
     ]
    }
   ],
   "source": [
    "# Todo\n",
    "# Share code in Github\n",
    "print(roc_auc_score(y_valid, predictions_lr))"
   ]
  },
  {
   "cell_type": "code",
   "execution_count": 109,
   "id": "92048b1c",
   "metadata": {},
   "outputs": [
    {
     "name": "stdout",
     "output_type": "stream",
     "text": [
      "Your selected dataframe has 105 columns.\n",
      "There are 62 columns that have missing values.\n"
     ]
    },
    {
     "data": {
      "text/html": [
       "<div>\n",
       "<style scoped>\n",
       "    .dataframe tbody tr th:only-of-type {\n",
       "        vertical-align: middle;\n",
       "    }\n",
       "\n",
       "    .dataframe tbody tr th {\n",
       "        vertical-align: top;\n",
       "    }\n",
       "\n",
       "    .dataframe thead th {\n",
       "        text-align: right;\n",
       "    }\n",
       "</style>\n",
       "<table border=\"1\" class=\"dataframe\">\n",
       "  <thead>\n",
       "    <tr style=\"text-align: right;\">\n",
       "      <th></th>\n",
       "      <th>Missing Values</th>\n",
       "      <th>% of Total Values</th>\n",
       "    </tr>\n",
       "  </thead>\n",
       "  <tbody>\n",
       "    <tr>\n",
       "      <th>COMMONAREA_MEDI</th>\n",
       "      <td>214865</td>\n",
       "      <td>69.9</td>\n",
       "    </tr>\n",
       "    <tr>\n",
       "      <th>COMMONAREA_MODE</th>\n",
       "      <td>214865</td>\n",
       "      <td>69.9</td>\n",
       "    </tr>\n",
       "    <tr>\n",
       "      <th>COMMONAREA_AVG</th>\n",
       "      <td>214865</td>\n",
       "      <td>69.9</td>\n",
       "    </tr>\n",
       "    <tr>\n",
       "      <th>NONLIVINGAPARTMENTS_MODE</th>\n",
       "      <td>213514</td>\n",
       "      <td>69.4</td>\n",
       "    </tr>\n",
       "    <tr>\n",
       "      <th>NONLIVINGAPARTMENTS_MEDI</th>\n",
       "      <td>213514</td>\n",
       "      <td>69.4</td>\n",
       "    </tr>\n",
       "    <tr>\n",
       "      <th>NONLIVINGAPARTMENTS_AVG</th>\n",
       "      <td>213514</td>\n",
       "      <td>69.4</td>\n",
       "    </tr>\n",
       "    <tr>\n",
       "      <th>LIVINGAPARTMENTS_MEDI</th>\n",
       "      <td>210199</td>\n",
       "      <td>68.4</td>\n",
       "    </tr>\n",
       "    <tr>\n",
       "      <th>LIVINGAPARTMENTS_MODE</th>\n",
       "      <td>210199</td>\n",
       "      <td>68.4</td>\n",
       "    </tr>\n",
       "    <tr>\n",
       "      <th>LIVINGAPARTMENTS_AVG</th>\n",
       "      <td>210199</td>\n",
       "      <td>68.4</td>\n",
       "    </tr>\n",
       "    <tr>\n",
       "      <th>FLOORSMIN_AVG</th>\n",
       "      <td>208642</td>\n",
       "      <td>67.8</td>\n",
       "    </tr>\n",
       "    <tr>\n",
       "      <th>FLOORSMIN_MEDI</th>\n",
       "      <td>208642</td>\n",
       "      <td>67.8</td>\n",
       "    </tr>\n",
       "    <tr>\n",
       "      <th>FLOORSMIN_MODE</th>\n",
       "      <td>208642</td>\n",
       "      <td>67.8</td>\n",
       "    </tr>\n",
       "    <tr>\n",
       "      <th>YEARS_BUILD_AVG</th>\n",
       "      <td>204488</td>\n",
       "      <td>66.5</td>\n",
       "    </tr>\n",
       "    <tr>\n",
       "      <th>YEARS_BUILD_MEDI</th>\n",
       "      <td>204488</td>\n",
       "      <td>66.5</td>\n",
       "    </tr>\n",
       "    <tr>\n",
       "      <th>YEARS_BUILD_MODE</th>\n",
       "      <td>204488</td>\n",
       "      <td>66.5</td>\n",
       "    </tr>\n",
       "    <tr>\n",
       "      <th>OWN_CAR_AGE</th>\n",
       "      <td>202929</td>\n",
       "      <td>66.0</td>\n",
       "    </tr>\n",
       "    <tr>\n",
       "      <th>LANDAREA_AVG</th>\n",
       "      <td>182590</td>\n",
       "      <td>59.4</td>\n",
       "    </tr>\n",
       "    <tr>\n",
       "      <th>LANDAREA_MODE</th>\n",
       "      <td>182590</td>\n",
       "      <td>59.4</td>\n",
       "    </tr>\n",
       "    <tr>\n",
       "      <th>LANDAREA_MEDI</th>\n",
       "      <td>182590</td>\n",
       "      <td>59.4</td>\n",
       "    </tr>\n",
       "    <tr>\n",
       "      <th>BASEMENTAREA_AVG</th>\n",
       "      <td>179943</td>\n",
       "      <td>58.5</td>\n",
       "    </tr>\n",
       "  </tbody>\n",
       "</table>\n",
       "</div>"
      ],
      "text/plain": [
       "                          Missing Values  % of Total Values\n",
       "COMMONAREA_MEDI                   214865               69.9\n",
       "COMMONAREA_MODE                   214865               69.9\n",
       "COMMONAREA_AVG                    214865               69.9\n",
       "NONLIVINGAPARTMENTS_MODE          213514               69.4\n",
       "NONLIVINGAPARTMENTS_MEDI          213514               69.4\n",
       "NONLIVINGAPARTMENTS_AVG           213514               69.4\n",
       "LIVINGAPARTMENTS_MEDI             210199               68.4\n",
       "LIVINGAPARTMENTS_MODE             210199               68.4\n",
       "LIVINGAPARTMENTS_AVG              210199               68.4\n",
       "FLOORSMIN_AVG                     208642               67.8\n",
       "FLOORSMIN_MEDI                    208642               67.8\n",
       "FLOORSMIN_MODE                    208642               67.8\n",
       "YEARS_BUILD_AVG                   204488               66.5\n",
       "YEARS_BUILD_MEDI                  204488               66.5\n",
       "YEARS_BUILD_MODE                  204488               66.5\n",
       "OWN_CAR_AGE                       202929               66.0\n",
       "LANDAREA_AVG                      182590               59.4\n",
       "LANDAREA_MODE                     182590               59.4\n",
       "LANDAREA_MEDI                     182590               59.4\n",
       "BASEMENTAREA_AVG                  179943               58.5"
      ]
     },
     "execution_count": 109,
     "metadata": {},
     "output_type": "execute_result"
    }
   ],
   "source": [
    "missing_values_table(train).head(20)"
   ]
  },
  {
   "cell_type": "code",
   "execution_count": null,
   "id": "a9f019d0",
   "metadata": {},
   "outputs": [],
   "source": []
  },
  {
   "cell_type": "code",
   "execution_count": 110,
   "id": "28033b36",
   "metadata": {},
   "outputs": [
    {
     "name": "stdout",
     "output_type": "stream",
     "text": [
      "Your selected dataframe has 105 columns.\n",
      "There are 62 columns that have missing values.\n"
     ]
    },
    {
     "data": {
      "text/html": [
       "<div>\n",
       "<style scoped>\n",
       "    .dataframe tbody tr th:only-of-type {\n",
       "        vertical-align: middle;\n",
       "    }\n",
       "\n",
       "    .dataframe tbody tr th {\n",
       "        vertical-align: top;\n",
       "    }\n",
       "\n",
       "    .dataframe thead th {\n",
       "        text-align: right;\n",
       "    }\n",
       "</style>\n",
       "<table border=\"1\" class=\"dataframe\">\n",
       "  <thead>\n",
       "    <tr style=\"text-align: right;\">\n",
       "      <th></th>\n",
       "      <th>Missing Values</th>\n",
       "      <th>% of Total Values</th>\n",
       "    </tr>\n",
       "  </thead>\n",
       "  <tbody>\n",
       "    <tr>\n",
       "      <th>COMMONAREA_MEDI</th>\n",
       "      <td>214865</td>\n",
       "      <td>69.9</td>\n",
       "    </tr>\n",
       "    <tr>\n",
       "      <th>COMMONAREA_MODE</th>\n",
       "      <td>214865</td>\n",
       "      <td>69.9</td>\n",
       "    </tr>\n",
       "    <tr>\n",
       "      <th>COMMONAREA_AVG</th>\n",
       "      <td>214865</td>\n",
       "      <td>69.9</td>\n",
       "    </tr>\n",
       "    <tr>\n",
       "      <th>NONLIVINGAPARTMENTS_MODE</th>\n",
       "      <td>213514</td>\n",
       "      <td>69.4</td>\n",
       "    </tr>\n",
       "    <tr>\n",
       "      <th>NONLIVINGAPARTMENTS_MEDI</th>\n",
       "      <td>213514</td>\n",
       "      <td>69.4</td>\n",
       "    </tr>\n",
       "    <tr>\n",
       "      <th>NONLIVINGAPARTMENTS_AVG</th>\n",
       "      <td>213514</td>\n",
       "      <td>69.4</td>\n",
       "    </tr>\n",
       "    <tr>\n",
       "      <th>LIVINGAPARTMENTS_MEDI</th>\n",
       "      <td>210199</td>\n",
       "      <td>68.4</td>\n",
       "    </tr>\n",
       "    <tr>\n",
       "      <th>LIVINGAPARTMENTS_MODE</th>\n",
       "      <td>210199</td>\n",
       "      <td>68.4</td>\n",
       "    </tr>\n",
       "    <tr>\n",
       "      <th>LIVINGAPARTMENTS_AVG</th>\n",
       "      <td>210199</td>\n",
       "      <td>68.4</td>\n",
       "    </tr>\n",
       "    <tr>\n",
       "      <th>FLOORSMIN_AVG</th>\n",
       "      <td>208642</td>\n",
       "      <td>67.8</td>\n",
       "    </tr>\n",
       "    <tr>\n",
       "      <th>FLOORSMIN_MEDI</th>\n",
       "      <td>208642</td>\n",
       "      <td>67.8</td>\n",
       "    </tr>\n",
       "    <tr>\n",
       "      <th>FLOORSMIN_MODE</th>\n",
       "      <td>208642</td>\n",
       "      <td>67.8</td>\n",
       "    </tr>\n",
       "    <tr>\n",
       "      <th>YEARS_BUILD_AVG</th>\n",
       "      <td>204488</td>\n",
       "      <td>66.5</td>\n",
       "    </tr>\n",
       "    <tr>\n",
       "      <th>YEARS_BUILD_MEDI</th>\n",
       "      <td>204488</td>\n",
       "      <td>66.5</td>\n",
       "    </tr>\n",
       "    <tr>\n",
       "      <th>YEARS_BUILD_MODE</th>\n",
       "      <td>204488</td>\n",
       "      <td>66.5</td>\n",
       "    </tr>\n",
       "    <tr>\n",
       "      <th>OWN_CAR_AGE</th>\n",
       "      <td>202929</td>\n",
       "      <td>66.0</td>\n",
       "    </tr>\n",
       "    <tr>\n",
       "      <th>LANDAREA_AVG</th>\n",
       "      <td>182590</td>\n",
       "      <td>59.4</td>\n",
       "    </tr>\n",
       "    <tr>\n",
       "      <th>LANDAREA_MODE</th>\n",
       "      <td>182590</td>\n",
       "      <td>59.4</td>\n",
       "    </tr>\n",
       "    <tr>\n",
       "      <th>LANDAREA_MEDI</th>\n",
       "      <td>182590</td>\n",
       "      <td>59.4</td>\n",
       "    </tr>\n",
       "    <tr>\n",
       "      <th>BASEMENTAREA_AVG</th>\n",
       "      <td>179943</td>\n",
       "      <td>58.5</td>\n",
       "    </tr>\n",
       "  </tbody>\n",
       "</table>\n",
       "</div>"
      ],
      "text/plain": [
       "                          Missing Values  % of Total Values\n",
       "COMMONAREA_MEDI                   214865               69.9\n",
       "COMMONAREA_MODE                   214865               69.9\n",
       "COMMONAREA_AVG                    214865               69.9\n",
       "NONLIVINGAPARTMENTS_MODE          213514               69.4\n",
       "NONLIVINGAPARTMENTS_MEDI          213514               69.4\n",
       "NONLIVINGAPARTMENTS_AVG           213514               69.4\n",
       "LIVINGAPARTMENTS_MEDI             210199               68.4\n",
       "LIVINGAPARTMENTS_MODE             210199               68.4\n",
       "LIVINGAPARTMENTS_AVG              210199               68.4\n",
       "FLOORSMIN_AVG                     208642               67.8\n",
       "FLOORSMIN_MEDI                    208642               67.8\n",
       "FLOORSMIN_MODE                    208642               67.8\n",
       "YEARS_BUILD_AVG                   204488               66.5\n",
       "YEARS_BUILD_MEDI                  204488               66.5\n",
       "YEARS_BUILD_MODE                  204488               66.5\n",
       "OWN_CAR_AGE                       202929               66.0\n",
       "LANDAREA_AVG                      182590               59.4\n",
       "LANDAREA_MODE                     182590               59.4\n",
       "LANDAREA_MEDI                     182590               59.4\n",
       "BASEMENTAREA_AVG                  179943               58.5"
      ]
     },
     "execution_count": 110,
     "metadata": {},
     "output_type": "execute_result"
    }
   ],
   "source": [
    "missing_values_table(train).head(20)"
   ]
  },
  {
   "cell_type": "code",
   "execution_count": null,
   "id": "01d9bcd5",
   "metadata": {},
   "outputs": [],
   "source": []
  }
 ],
 "metadata": {
  "kernelspec": {
   "display_name": "Python 3 (ipykernel)",
   "language": "python",
   "name": "python3"
  },
  "language_info": {
   "codemirror_mode": {
    "name": "ipython",
    "version": 3
   },
   "file_extension": ".py",
   "mimetype": "text/x-python",
   "name": "python",
   "nbconvert_exporter": "python",
   "pygments_lexer": "ipython3",
   "version": "3.7.3"
  }
 },
 "nbformat": 4,
 "nbformat_minor": 5
}
